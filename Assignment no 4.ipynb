{
 "cells": [
  {
   "cell_type": "code",
   "execution_count": 1,
   "metadata": {},
   "outputs": [
    {
     "name": "stdout",
     "output_type": "stream",
     "text": [
      "first_name : Anas\n",
      "last_name : Yousuf\n",
      "age : 24\n",
      "city : Karachi\n",
      "{'first_name': 'Anas', 'last_name': 'Yousuf', 'age': '24', 'city': 'Karachi', 'qualification': 'high academic level'}\n",
      "{'first_name': 'Anas', 'last_name': 'Yousuf', 'age': '24', 'city': 'Karachi'}\n"
     ]
    }
   ],
   "source": [
    "#Question 1 from Assignment 4\n",
    "\n",
    "info = {\n",
    "    \"first_name\" : \"Anas\",\n",
    "    \"last_name\" : \"Yousuf\",\n",
    "    \"age\" : \"24\",\n",
    "    \"city\" : \"Karachi\"\n",
    "}\n",
    "\n",
    "for key, value in info.items():\n",
    "    print(key + \" : \" + value)\n",
    "\n",
    "info[\"qualification\"] = \"low academic level\"\n",
    "\n",
    "d = {\"qualification\" : \"high academic level\"}\n",
    "\n",
    "info.update(d)\n",
    "\n",
    "print(info)\n",
    "\n",
    "del info[\"qualification\"]\n",
    "\n",
    "print(info)"
   ]
  },
  {
   "cell_type": "code",
   "execution_count": 2,
   "metadata": {},
   "outputs": [
    {
     "name": "stdout",
     "output_type": "stream",
     "text": [
      "CityName : Karachi\n",
      "Country : Pakistan\n",
      "Population : 16.62 Million\n",
      "fact : It is the Sixth largest city in the world by city population\n",
      " \n",
      "CityName : Montreal\n",
      "Country : Canada\n",
      "Population : 1.78 Million\n",
      "fact : Montreal is known for its Underground City which is a series of interconnected tunnels beneath Montreal. It runs for over 32 km (20 mi). During the winter season, more than 500,000 people use the tunnels on a daily basis.\n",
      " \n",
      "CityName : Florence\n",
      "Country : Italy\n",
      "Population : 382,258\n",
      "fact : The famous explorer Amerigo Vespucci, who America is named after, was born in Florence in 1454.\n",
      " \n"
     ]
    }
   ],
   "source": [
    "#Question 2 from Assignment 4\n",
    "\n",
    "cities = {\n",
    "    \"Karachi\" : {\n",
    "        \"Country\" : \"Pakistan\",\n",
    "        \"Population\" : \"16.62 Million\",\n",
    "        \"fact\" : \"It is the Sixth largest city in the world by city population\"\n",
    "    },\n",
    "    \"Montreal\" : {\n",
    "        \"Country\" : \"Canada\",\n",
    "        \"Population\" : \"1.78 Million\",\n",
    "        \"fact\" : \"Montreal is known for its Underground City which is a series of interconnected tunnels beneath Montreal. It runs for over 32 km (20 mi). During the winter season, more than 500,000 people use the tunnels on a daily basis.\"\n",
    "    },\n",
    "    \"Florence\" : {\n",
    "        \"Country\" : \"Italy\",\n",
    "        \"Population\" : \"382,258\",\n",
    "        \"fact\" : \"The famous explorer Amerigo Vespucci, who America is named after, was born in Florence in 1454.\"\n",
    "    }\n",
    "}\n",
    "\n",
    "num = 0\n",
    "\n",
    "for city,name in cities.items():\n",
    "    print(\"CityName : \" + city)\n",
    "    for key, value in cities[city].items():\n",
    "        print(key + \" : \" + value)\n",
    "    print(\" \")\n",
    "    \n",
    "        \n",
    "        "
   ]
  },
  {
   "cell_type": "code",
   "execution_count": 3,
   "metadata": {},
   "outputs": [
    {
     "name": "stdout",
     "output_type": "stream",
     "text": [
      "Write 0 when you are done with buying tickets\n",
      "Enter Your Age : 15\n",
      "Your ticket price is $15. \n",
      " \n",
      "Enter Your Age : 2\n",
      "Your ticket is Free\n",
      " \n",
      "Enter Your Age : 12\n",
      "Your ticket price is $10. \n",
      " \n",
      "Enter Your Age : 0\n",
      "Thanks for watching movie with us, come back later for some exciting movies\n",
      " \n"
     ]
    }
   ],
   "source": [
    "#Question 3 from Assignment 4\n",
    "\n",
    "scenario = True\n",
    "print(\"Write 0 when you are done with buying tickets\")\n",
    "\n",
    "while scenario == True:\n",
    "    \n",
    "    age = int(input(\"Enter Your Age : \"))\n",
    "    if age == 0:\n",
    "        scenario = False\n",
    "        print(\"Thanks for watching movie with us, come back later for some exciting movies\")\n",
    "        print(\" \")\n",
    "    elif age < 3:\n",
    "        print(\"Your ticket is Free\")\n",
    "        print(\" \")\n",
    "    elif age < 13:\n",
    "        print(\"Your ticket price is $10. \")\n",
    "        print(\" \")\n",
    "    elif age > 12:\n",
    "        print(\"Your ticket price is $15. \")\n",
    "        print(\" \")\n",
    "    \n",
    "    else:\n",
    "        print(\"Wrong Input\")\n",
    "        print(\" \")\n",
    "\n",
    "\n"
   ]
  },
  {
   "cell_type": "code",
   "execution_count": 4,
   "metadata": {},
   "outputs": [
    {
     "name": "stdout",
     "output_type": "stream",
     "text": [
      "One of my favorite book is Harry Potter\n"
     ]
    }
   ],
   "source": [
    "#Question 4 from Assignment 4\n",
    "\n",
    "def favorite_book(title):\n",
    "    print(\"One of my favorite book is \" + str(title))\n",
    "    \n",
    "favorite_book(\"Harry Potter\")"
   ]
  },
  {
   "cell_type": "code",
   "execution_count": 8,
   "metadata": {},
   "outputs": [
    {
     "name": "stdout",
     "output_type": "stream",
     "text": [
      "Write 'Play' to play a number guessing game or 'Pause' to stop playing if you are already playing : play\n",
      " \n",
      "You have 3 guesses left\n",
      "Enter Your Guessed Number between 1 to 30 : 21\n",
      "Wrong, your number is greater than random number\n",
      " \n",
      "You have 2 guesses left\n",
      "Enter Your Guessed Number between 1 to 30 : 14\n",
      "Wrong, your number is lower than random number\n",
      " \n",
      "You have 1 guesses left\n",
      "Enter Your Guessed Number between 1 to 30 : 18\n",
      "Wrong, your number is lower than random number\n",
      "You have lost, try again..\n",
      "Write 'Play' to play a number guessing game or 'Pause' to stop playing if you are already playing : pause\n",
      "Come back later to Play Again\n"
     ]
    }
   ],
   "source": [
    "#Question 5 from Assignment 4\n",
    "\n",
    "import random\n",
    "\n",
    "\n",
    "def game1():\n",
    "    random_num = random.randint(1,30)\n",
    "    v = 3\n",
    "    for x in range(3):\n",
    "        print(\" \")\n",
    "        print(\"You have \" + str(v) + \" guesses left\")\n",
    "        num = int(input(\"Enter Your Guessed Number between 1 to 30 : \"))\n",
    "        if num == random_num:\n",
    "            print(\"Great Work\")\n",
    "            break\n",
    "        elif num > random_num:\n",
    "            print(\"Wrong, your number is greater than random number\")\n",
    "        elif num < random_num:\n",
    "            print(\"Wrong, your number is lower than random number\")    \n",
    "        if x == 2:\n",
    "            print(\"You have lost, try again..\")\n",
    "        v -= 1\n",
    "            \n",
    "s = True\n",
    "while s == True:\n",
    "    status = input(\"Write 'Play' to play a number guessing game or 'Pause' to stop playing if you are already playing : \")\n",
    "    if status.lower() == \"play\":\n",
    "        game1()\n",
    "    elif status.lower() == \"pause\":\n",
    "        print(\"Come back later to Play Again\")\n",
    "        break\n",
    "    else:\n",
    "        print(\"Wrong Input, Try Again\")\n",
    "\n",
    "    \n",
    "    \n",
    "    \n",
    "\n",
    "\n"
   ]
  },
  {
   "cell_type": "code",
   "execution_count": null,
   "metadata": {},
   "outputs": [],
   "source": []
  }
 ],
 "metadata": {
  "kernelspec": {
   "display_name": "Python 3",
   "language": "python",
   "name": "python3"
  },
  "language_info": {
   "codemirror_mode": {
    "name": "ipython",
    "version": 3
   },
   "file_extension": ".py",
   "mimetype": "text/x-python",
   "name": "python",
   "nbconvert_exporter": "python",
   "pygments_lexer": "ipython3",
   "version": "3.7.4"
  }
 },
 "nbformat": 4,
 "nbformat_minor": 2
}

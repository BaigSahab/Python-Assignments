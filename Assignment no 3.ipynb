{
 "cells": [
  {
   "cell_type": "code",
   "execution_count": 6,
   "metadata": {},
   "outputs": [
    {
     "name": "stdout",
     "output_type": "stream",
     "text": [
      "Select operation.\n",
      "1.Add\n",
      "2.Subtract\n",
      "3.Multiply\n",
      "4.Divide\n",
      "Enter choice(1/2/3/4): 5\n",
      "Enter first number: 55\n",
      "Enter second number: 66\n",
      "Invalid input\n"
     ]
    }
   ],
   "source": [
    "#Question no 1 from Assignment 3\n",
    "\n",
    "def add(x, y):\n",
    "   return x + y \n",
    "def subtract(x, y):\n",
    "   return x - y\n",
    "def multiply(x, y):\n",
    "   return x * y\n",
    "def divide(x, y):\n",
    "   return x / y\n",
    "print(\"Select operation.\")\n",
    "print(\"1.Add\")\n",
    "print(\"2.Subtract\")\n",
    "print(\"3.Multiply\")\n",
    "print(\"4.Divide\") \n",
    "choice = input(\"Enter choice(1/2/3/4): \")\n",
    "num1 = float(input(\"Enter first number: \"))\n",
    "num2 = float(input(\"Enter second number: \"))\n",
    "if choice == '1':\n",
    "   print(num1,\"+\",num2,\"=\", add(num1,num2))\n",
    "elif choice == '2':\n",
    "   print(num1,\"-\",num2,\"=\", subtract(num1,num2))\n",
    "elif choice == '3':\n",
    "   print(num1,\"*\",num2,\"=\", multiply(num1,num2))\n",
    "elif choice == '4':\n",
    "   print(num1,\"/\",num2,\"=\", divide(num1,num2))\n",
    "else:\n",
    "   print(\"Invalid input\")"
   ]
  },
  {
   "cell_type": "code",
   "execution_count": 18,
   "metadata": {},
   "outputs": [
    {
     "name": "stdout",
     "output_type": "stream",
     "text": [
      "You have 3 integers in your list..\n"
     ]
    }
   ],
   "source": [
    "#Question no 2 from Assignment 3\n",
    "\n",
    "list1 = ['abc','gfi',12,'rty',45,'654',11]\n",
    "a = 0\n",
    "for item in list1:\n",
    "    if type(item) == int:\n",
    "        a += 1\n",
    "\n",
    "print('You have ' + str(a) + ' integers in your list..')\n",
    "        "
   ]
  },
  {
   "cell_type": "code",
   "execution_count": 20,
   "metadata": {},
   "outputs": [
    {
     "name": "stdout",
     "output_type": "stream",
     "text": [
      "Enter Key Here : name\n",
      "Enter Value Here : Sufyan\n",
      "{'name': 'Sufyan'}\n"
     ]
    }
   ],
   "source": [
    "#Question no 3 from Assignment 3\n",
    "\n",
    "customer = {}\n",
    "key1 = input('Enter Key Here : ')\n",
    "value1 = input('Enter Value Here : ')\n",
    "\n",
    "customer.update({key1:value1})\n",
    "\n",
    "print(customer)"
   ]
  },
  {
   "cell_type": "code",
   "execution_count": 22,
   "metadata": {},
   "outputs": [
    {
     "name": "stdout",
     "output_type": "stream",
     "text": [
      "313\n"
     ]
    }
   ],
   "source": [
    "#Question no 4 from Assignment 3\n",
    "\n",
    "dic1 = {\n",
    "    'num1' : 55,\n",
    "    'num2' : 42,\n",
    "    'num3' : 76,\n",
    "    'num4' : 92,\n",
    "    'num5' : 25,\n",
    "    'num6' : 23,\n",
    "}\n",
    "\n",
    "print(sum(dic1.values()))"
   ]
  },
  {
   "cell_type": "code",
   "execution_count": 23,
   "metadata": {},
   "outputs": [
    {
     "name": "stdout",
     "output_type": "stream",
     "text": [
      "You have 2 duplicates in your list\n"
     ]
    }
   ],
   "source": [
    "#Question no 5 from Assignment 3\n",
    "\n",
    "list23 = ['hello','hi','AoA','hi','Aoa','Wassup','hey']\n",
    "a = 0\n",
    "for word in list23:\n",
    "    if list23.count(word) > 1:\n",
    "        a += 1\n",
    "    \n",
    "print('You have ' + str(a) + ' duplicates in your list')"
   ]
  },
  {
   "cell_type": "code",
   "execution_count": 25,
   "metadata": {},
   "outputs": [
    {
     "name": "stdout",
     "output_type": "stream",
     "text": [
      "Enter Key Here : Name\n",
      "This key does not Exist in dictionary\n"
     ]
    }
   ],
   "source": [
    "#Question no 6 from Assignment 3\n",
    "\n",
    "dict23 = {\n",
    "    'name' : 'Sufyan',\n",
    "    'age' : '23',\n",
    "    'contact' : '090078601'\n",
    "}\n",
    "\n",
    "key = input('Enter Key Here : ')\n",
    "\n",
    "if key in dict23.keys():\n",
    "    print('Key already Exist')\n",
    "else:\n",
    "    print('This key does not Exist in dictionary')\n"
   ]
  },
  {
   "cell_type": "code",
   "execution_count": null,
   "metadata": {},
   "outputs": [],
   "source": []
  },
  {
   "cell_type": "code",
   "execution_count": null,
   "metadata": {},
   "outputs": [],
   "source": []
  }
 ],
 "metadata": {
  "kernelspec": {
   "display_name": "Python 3",
   "language": "python",
   "name": "python3"
  },
  "language_info": {
   "codemirror_mode": {
    "name": "ipython",
    "version": 3
   },
   "file_extension": ".py",
   "mimetype": "text/x-python",
   "name": "python",
   "nbconvert_exporter": "python",
   "pygments_lexer": "ipython3",
   "version": "3.7.4"
  }
 },
 "nbformat": 4,
 "nbformat_minor": 2
}

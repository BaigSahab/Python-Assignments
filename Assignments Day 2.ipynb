{
 "cells": [
  {
   "cell_type": "code",
   "execution_count": 4,
   "metadata": {},
   "outputs": [
    {
     "name": "stdout",
     "output_type": "stream",
     "text": [
      "Enter Marks for English : 50\n",
      "Enter Marks for Urdu : 50\n",
      "Enter Marks for Maths : 40\n",
      "Enter Marks for Physics : 50\n",
      "Enter Marks for Chemistry : 60\n",
      "Total Marks are : 250\n",
      "Percentage is : 50.0%\n",
      "Grade is : C\n"
     ]
    }
   ],
   "source": [
    "english = int(input('Enter Marks for English : '))\n",
    "urdu = int(input('Enter Marks for Urdu : '))\n",
    "maths = int(input('Enter Marks for Maths : '))\n",
    "physics = int(input('Enter Marks for Physics : '))\n",
    "chemistry = int(input('Enter Marks for Chemistry : '))\n",
    "\n",
    "total_marks = english + urdu + maths + physics + chemistry\n",
    "percentage = total_marks / 500 * 100\n",
    "grade = ''\n",
    "if percentage >= 90:\n",
    "    grade = 'A+'\n",
    "elif percentage >= 70:\n",
    "    grade = 'A'\n",
    "elif percentage >= 60:\n",
    "    grade = 'B'\n",
    "elif percentage >= 50:\n",
    "    grade = 'C'\n",
    "elif percentage >= 40:\n",
    "    grade = 'D'\n",
    "elif percentage >= 34:\n",
    "    grade = 'E'\n",
    "else:\n",
    "    grade = 'F'\n",
    "    \n",
    "print('Total Marks are : ' + str(total_marks) )\n",
    "print('Percentage is : ' + str(percentage) + '%' )\n",
    "print('Grade is : ' + str(grade))\n"
   ]
  },
  {
   "cell_type": "code",
   "execution_count": 6,
   "metadata": {},
   "outputs": [
    {
     "name": "stdout",
     "output_type": "stream",
     "text": [
      "Enter a Number Here : 2\n",
      "This is an Even Number\n"
     ]
    }
   ],
   "source": [
    "num = int(input('Enter a Number Here : '))\n",
    "\n",
    "if num % 2 == 1:\n",
    "    print('This is and Odd Number..')\n",
    "else:\n",
    "    print('This is an Even Number')"
   ]
  },
  {
   "cell_type": "code",
   "execution_count": 7,
   "metadata": {},
   "outputs": [
    {
     "name": "stdout",
     "output_type": "stream",
     "text": [
      "Length of an Array is : 8\n"
     ]
    }
   ],
   "source": [
    "arr = [2,45,8,66,74,1,48,85]\n",
    "\n",
    "leng = 0\n",
    "for a in arr:\n",
    "    leng += 1\n",
    "\n",
    "print('Length of an Array is : ' + str(leng))\n"
   ]
  },
  {
   "cell_type": "code",
   "execution_count": 9,
   "metadata": {},
   "outputs": [
    {
     "name": "stdout",
     "output_type": "stream",
     "text": [
      "Sum of Array is : 329\n"
     ]
    }
   ],
   "source": [
    "arr = [2,45,8,66,74,1,48,85]\n",
    "print('Sum of Array is : ' + str(sum(arr)))"
   ]
  },
  {
   "cell_type": "code",
   "execution_count": 10,
   "metadata": {},
   "outputs": [
    {
     "name": "stdout",
     "output_type": "stream",
     "text": [
      "Largest number of this Array is : 85\n"
     ]
    }
   ],
   "source": [
    "arr = [2,45,8,66,74,1,48,85]\n",
    "b = 0\n",
    "c = 0\n",
    "for a in arr:\n",
    "    if c < arr[b]:\n",
    "        c = arr[b]\n",
    "        \n",
    "    b += 1\n",
    "    \n",
    "print('Largest number of this Array is : ' + str(c))"
   ]
  },
  {
   "cell_type": "code",
   "execution_count": 11,
   "metadata": {},
   "outputs": [
    {
     "name": "stdout",
     "output_type": "stream",
     "text": [
      "All numbers which are less than 5 are as follow : \n",
      "1\n",
      "1\n",
      "2\n",
      "3\n"
     ]
    }
   ],
   "source": [
    "arr = [1,1,2,3,5,8,13,21,34,55,89]\n",
    "b = 0\n",
    "print('All numbers which are less than 5 are as follow : ')\n",
    "for a in arr:\n",
    "    if arr[b] < 5:\n",
    "        print(arr[b])\n",
    "    b += 1\n"
   ]
  },
  {
   "cell_type": "code",
   "execution_count": null,
   "metadata": {},
   "outputs": [],
   "source": []
  }
 ],
 "metadata": {
  "kernelspec": {
   "display_name": "Python 3",
   "language": "python",
   "name": "python3"
  },
  "language_info": {
   "codemirror_mode": {
    "name": "ipython",
    "version": 3
   },
   "file_extension": ".py",
   "mimetype": "text/x-python",
   "name": "python",
   "nbconvert_exporter": "python",
   "pygments_lexer": "ipython3",
   "version": "3.7.4"
  }
 },
 "nbformat": 4,
 "nbformat_minor": 2
}

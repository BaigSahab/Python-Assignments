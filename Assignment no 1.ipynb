{
 "cells": [
  {
   "cell_type": "code",
   "execution_count": 1,
   "metadata": {},
   "outputs": [
    {
     "name": "stdout",
     "output_type": "stream",
     "text": [
      "Twinkle twinkle little star,\n",
      "\t How i wonder what you are!\n",
      "\t\t Up above the world so high,\n",
      "\t\t Like a diamond in the sky,\n",
      " Twinkle twinkle little star,\n",
      "\t How i wonder what you are\n"
     ]
    }
   ],
   "source": [
    "#Question no 1 from Assignment 1\n"
    "print(\"Twinkle twinkle little star,\\n\\t How i wonder what you are!\\n\\t\\t Up above the world so high,\\n\\t\\t Like a diamond in the sky,\\n Twinkle twinkle little star,\\n\\t How i wonder what you are\")"
   ]
  },
  {
   "cell_type": "code",
   "execution_count": 4,
   "metadata": {},
   "outputs": [
    {
     "name": "stdout",
     "output_type": "stream",
     "text": [
      "3.7.4 (default, Aug  9 2019, 18:34:13) [MSC v.1915 64 bit (AMD64)]\n"
     ]
    }
   ],
   "source": [
    "import sys\n",
    "print(sys.version)"
   ]
  },
  {
   "cell_type": "code",
   "execution_count": 5,
   "metadata": {},
   "outputs": [
    {
     "name": "stdout",
     "output_type": "stream",
     "text": [
      "now = 2019-11-03 05:47:02.999316\n"
     ]
    }
   ],
   "source": [
    "from datetime import datetime\n",
    "\n",
    "now = datetime.now() \n",
    "print(\"now =\", now)"
   ]
  },
  {
   "cell_type": "code",
   "execution_count": 6,
   "metadata": {},
   "outputs": [
    {
     "name": "stdout",
     "output_type": "stream",
     "text": [
      "Enter the Radius of a Circle :5\n",
      "78.53975\n"
     ]
    }
   ],
   "source": [
    "radius = int(input(\"Enter the Radius of a Circle :\"))\n",
    "area = 3.14159 * (radius ** 2)\n",
    "print(area)"
   ]
  },
  {
   "cell_type": "code",
   "execution_count": 1,
   "metadata": {},
   "outputs": [
    {
     "name": "stdout",
     "output_type": "stream",
     "text": [
      "Enter Your First Name : Sufyan\n",
      "Enter Your Last Name :Baig\n",
      "giaB nayfuS\n"
     ]
    }
   ],
   "source": [
    "firstName = input(\"Enter Your First Name : \")\n",
    "lastName = input(\"Enter Your Last Name :\")\n",
    "first = firstName[::-1]\n",
    "last = lastName[::-1]\n",
    "print(last + \" \" + first)"
   ]
  },
  {
   "cell_type": "code",
   "execution_count": 6,
   "metadata": {},
   "outputs": [
    {
     "name": "stdout",
     "output_type": "stream",
     "text": [
      "Enter Num1 :45\n",
      "Enter Num2 :65\n",
      "Sum of 45 and 65 is 110\n"
     ]
    }
   ],
   "source": [
    "num1 = int(input(\"Enter Num1 :\"))\n",
    "num2 = int(input(\"Enter Num2 :\"))\n",
    "sum = num1 + num2\n",
    "print(\"Sum of \"+str(num1)+\" and \"+str(num2) +\" is \" + str(sum))"
   ]
  },
  {
   "cell_type": "code",
   "execution_count": null,
   "metadata": {},
   "outputs": [],
   "source": []
  }
 ],
 "metadata": {
  "kernelspec": {
   "display_name": "Python 3",
   "language": "python",
   "name": "python3"
  },
  "language_info": {
   "codemirror_mode": {
    "name": "ipython",
    "version": 3
   },
   "file_extension": ".py",
   "mimetype": "text/x-python",
   "name": "python",
   "nbconvert_exporter": "python",
   "pygments_lexer": "ipython3",
   "version": "3.7.4"
  }
 },
 "nbformat": 4,
 "nbformat_minor": 2
}
